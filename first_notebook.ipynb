{
    "cells": [
        {
            "metadata": {},
            "cell_type": "code",
            "source": "print(\"Running the Jupiter Notebook for the first time in IBM Watson\")",
            "execution_count": 1,
            "outputs": [
                {
                    "output_type": "stream",
                    "text": "Running the Jupiter Notebook for the first time in IBM Watson\n",
                    "name": "stdout"
                }
            ]
        },
        {
            "metadata": {},
            "cell_type": "code",
            "source": "a = 2\nb = 4\nc = a + b\nprint(c)",
            "execution_count": 2,
            "outputs": [
                {
                    "output_type": "stream",
                    "text": "6\n",
                    "name": "stdout"
                }
            ]
        },
        {
            "metadata": {},
            "cell_type": "code",
            "source": "@hidden_cell\ntesting testing",
            "execution_count": null,
            "outputs": []
        }
    ],
    "metadata": {
        "kernelspec": {
            "name": "python3",
            "display_name": "Python 3.7",
            "language": "python"
        },
        "language_info": {
            "name": "python",
            "version": "3.7.9",
            "mimetype": "text/x-python",
            "codemirror_mode": {
                "name": "ipython",
                "version": 3
            },
            "pygments_lexer": "ipython3",
            "nbconvert_exporter": "python",
            "file_extension": ".py"
        }
    },
    "nbformat": 4,
    "nbformat_minor": 1
}